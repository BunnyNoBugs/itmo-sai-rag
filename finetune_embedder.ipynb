{
 "cells": [
  {
   "metadata": {
    "ExecuteTime": {
     "end_time": "2024-09-30T12:53:58.234869Z",
     "start_time": "2024-09-30T12:53:58.225877Z"
    }
   },
   "cell_type": "code",
   "source": [
    "import os\n",
    "os.chdir('public/itmo-sai-rag')"
   ],
   "id": "c5ab740cd8f062a3",
   "outputs": [],
   "execution_count": 1
  },
  {
   "metadata": {},
   "cell_type": "markdown",
   "source": "## Imports ",
   "id": "fc3079a4230c2237"
  },
  {
   "metadata": {
    "ExecuteTime": {
     "end_time": "2024-09-30T12:55:45.774591Z",
     "start_time": "2024-09-30T12:55:30.696642Z"
    }
   },
   "cell_type": "code",
   "source": [
    "import json\n",
    "import pandas as pd\n",
    "from tqdm.notebook import tqdm\n",
    "from sentence_transformers import SentenceTransformer, losses, InputExample\n",
    "from sentence_transformers.losses import ContrastiveTensionDataLoader\n",
    "from torch.utils.data import DataLoader\n",
    "from langchain_chroma import Chroma\n",
    "from langchain.docstore.document import Document\n",
    "from utils import create_documents"
   ],
   "id": "d18ca2a4f403e786",
   "outputs": [
    {
     "name": "stderr",
     "output_type": "stream",
     "text": [
      "/opt/conda/lib/python3.10/site-packages/sentence_transformers/cross_encoder/CrossEncoder.py:11: TqdmExperimentalWarning: Using `tqdm.autonotebook.tqdm` in notebook mode. Use `tqdm.tqdm` instead to force console mode (e.g. in jupyter console)\n",
      "  from tqdm.autonotebook import tqdm, trange\n"
     ]
    }
   ],
   "execution_count": 5
  },
  {
   "metadata": {},
   "cell_type": "markdown",
   "source": "## Train",
   "id": "f565dcbe761b5891"
  },
  {
   "metadata": {
    "ExecuteTime": {
     "end_time": "2024-09-29T18:58:54.022138Z",
     "start_time": "2024-09-29T18:58:54.018017Z"
    }
   },
   "cell_type": "code",
   "source": [
    "model_path = 'intfloat/multilingual-e5-base'\n",
    "model_name = model_path.split('/')[-1]"
   ],
   "id": "f59ecafe9a35ad2f",
   "outputs": [],
   "execution_count": 3
  },
  {
   "metadata": {
    "ExecuteTime": {
     "end_time": "2024-09-29T18:58:54.030720Z",
     "start_time": "2024-09-29T18:58:54.024293Z"
    }
   },
   "cell_type": "code",
   "source": "EPOCHS = 1",
   "id": "6ba96ac3a8c88071",
   "outputs": [],
   "execution_count": 4
  },
  {
   "metadata": {
    "ExecuteTime": {
     "end_time": "2024-09-29T17:34:38.198870Z",
     "start_time": "2024-09-29T17:34:36.638960Z"
    }
   },
   "cell_type": "code",
   "source": [
    "with open('data/otraslevye_docs_gost.json') as f:\n",
    "    chunks = json.load(f)"
   ],
   "id": "51bcd233ac9ad915",
   "outputs": [],
   "execution_count": 6
  },
  {
   "metadata": {
    "ExecuteTime": {
     "end_time": "2024-09-29T17:34:38.541945Z",
     "start_time": "2024-09-29T17:34:38.201190Z"
    }
   },
   "cell_type": "code",
   "source": [
    "documents = create_documents(chunks)\n",
    "ids = chunks['ids']"
   ],
   "id": "1575f4a121dd7c50",
   "outputs": [],
   "execution_count": 7
  },
  {
   "metadata": {
    "ExecuteTime": {
     "end_time": "2024-09-29T17:34:40.121833Z",
     "start_time": "2024-09-29T17:34:38.544092Z"
    }
   },
   "cell_type": "code",
   "source": "pd.Series(chunks['documents']).apply(len).plot.box()",
   "id": "f260ebf12518c57e",
   "outputs": [
    {
     "data": {
      "text/plain": [
       "<Axes: >"
      ]
     },
     "execution_count": 8,
     "metadata": {},
     "output_type": "execute_result"
    },
    {
     "data": {
      "text/plain": [
       "<Figure size 640x480 with 1 Axes>"
      ],
      "image/png": "[encoded data removed]"
     },
     "metadata": {},
     "output_type": "display_data"
    }
   ],
   "execution_count": 8
  },
  {
   "metadata": {
    "ExecuteTime": {
     "end_time": "2024-09-27T22:14:26.947831Z",
     "start_time": "2024-09-27T22:14:26.563120Z"
    }
   },
   "cell_type": "code",
   "source": "train_examples = [InputExample(texts=[d, d]) for d in chunks['documents']]",
   "id": "db6eab006b5f86b7",
   "outputs": [],
   "execution_count": 9
  },
  {
   "metadata": {
    "ExecuteTime": {
     "end_time": "2024-09-27T22:14:33.273840Z",
     "start_time": "2024-09-27T22:14:28.762763Z"
    }
   },
   "cell_type": "code",
   "source": "model = SentenceTransformer(model_path)",
   "id": "d329e838236cc035",
   "outputs": [],
   "execution_count": 11
  },
  {
   "metadata": {
    "ExecuteTime": {
     "end_time": "2024-09-27T22:14:33.280163Z",
     "start_time": "2024-09-27T22:14:33.276324Z"
    }
   },
   "cell_type": "code",
   "source": "train_dataloader = DataLoader(train_examples, shuffle=True, batch_size=4)",
   "id": "a57e941efa8baee6",
   "outputs": [],
   "execution_count": 12
  },
  {
   "metadata": {
    "ExecuteTime": {
     "end_time": "2024-09-27T22:14:33.287220Z",
     "start_time": "2024-09-27T22:14:33.282005Z"
    }
   },
   "cell_type": "code",
   "source": "# train_dataloader = ContrastiveTensionDataLoader(train_examples, batch_size=3, pos_neg_ratio=3)",
   "id": "b7dd4b836c6ebc59",
   "outputs": [],
   "execution_count": 13
  },
  {
   "metadata": {
    "ExecuteTime": {
     "end_time": "2024-09-27T22:14:34.033555Z",
     "start_time": "2024-09-27T22:14:33.289294Z"
    }
   },
   "cell_type": "code",
   "source": "train_loss = losses.ContrastiveTensionLossInBatchNegatives(model=model)",
   "id": "532e57399f528e52",
   "outputs": [],
   "execution_count": 14
  },
  {
   "metadata": {
    "ExecuteTime": {
     "end_time": "2024-09-27T22:14:34.038433Z",
     "start_time": "2024-09-27T22:14:34.035275Z"
    }
   },
   "cell_type": "code",
   "source": "# train_loss = losses.ContrastiveTensionLoss(model=model)",
   "id": "71b24192e4133821",
   "outputs": [],
   "execution_count": 15
  },
  {
   "metadata": {
    "ExecuteTime": {
     "end_time": "2024-09-29T18:58:54.043678Z",
     "start_time": "2024-09-29T18:58:54.033762Z"
    }
   },
   "cell_type": "code",
   "source": [
    "model_name = f'{model_name}_finetuned_{EPOCHS}_epch'\n",
    "model_name"
   ],
   "id": "53304fd81715f9e8",
   "outputs": [
    {
     "data": {
      "text/plain": [
       "'multilingual-e5-base_finetuned_1_epch'"
      ]
     },
     "execution_count": 5,
     "metadata": {},
     "output_type": "execute_result"
    }
   ],
   "execution_count": 5
  },
  {
   "metadata": {
    "ExecuteTime": {
     "start_time": "2024-09-27T22:14:38.575578Z"
    }
   },
   "cell_type": "code",
   "source": [
    "model.fit(\n",
    "    [(train_dataloader, train_loss)],\n",
    "    epochs=EPOCHS\n",
    ")"
   ],
   "id": "162bb6af86aabcd0",
   "outputs": [
    {
     "data": {
      "text/plain": [
       "<IPython.core.display.HTML object>"
      ],
      "text/html": [
       "\n",
       "    <div>\n",
       "      \n",
       "      <progress value='2684' max='63220' style='width:300px; height:20px; vertical-align: middle;'></progress>\n",
       "      [ 2684/63220 35:10 < 13:13:52, 1.27 it/s, Epoch 0.42/10]\n",
       "    </div>\n",
       "    <table border=\"1\" class=\"dataframe\">\n",
       "  <thead>\n",
       " <tr style=\"text-align: left;\">\n",
       "      <th>Step</th>\n",
       "      <th>Training Loss</th>\n",
       "    </tr>\n",
       "  </thead>\n",
       "  <tbody>\n",
       "    <tr>\n",
       "      <td>500</td>\n",
       "      <td>0.088300</td>\n",
       "    </tr>\n",
       "    <tr>\n",
       "      <td>1000</td>\n",
       "      <td>0.013500</td>\n",
       "    </tr>\n",
       "    <tr>\n",
       "      <td>1500</td>\n",
       "      <td>0.005900</td>\n",
       "    </tr>\n",
       "    <tr>\n",
       "      <td>2000</td>\n",
       "      <td>0.004300</td>\n",
       "    </tr>\n",
       "    <tr>\n",
       "      <td>2500</td>\n",
       "      <td>0.004000</td>\n",
       "    </tr>\n",
       "  </tbody>\n",
       "</table><p>"
      ]
     },
     "metadata": {},
     "output_type": "display_data"
    }
   ],
   "execution_count": null
  },
  {
   "metadata": {
    "ExecuteTime": {
     "end_time": "2024-09-29T18:59:14.225096Z",
     "start_time": "2024-09-29T18:59:14.218621Z"
    }
   },
   "cell_type": "code",
   "source": [
    "model_path = f'models/{model_name}'\n",
    "model_path"
   ],
   "id": "aa9910ac3a2ea323",
   "outputs": [
    {
     "data": {
      "text/plain": [
       "'models/multilingual-e5-base_finetuned_1_epch'"
      ]
     },
     "execution_count": 6,
     "metadata": {},
     "output_type": "execute_result"
    }
   ],
   "execution_count": 6
  },
  {
   "metadata": {},
   "cell_type": "code",
   "source": "model.save_pretrained(model_path)",
   "id": "3146d3ec2c14cc75",
   "outputs": [],
   "execution_count": null
  },
  {
   "metadata": {},
   "cell_type": "markdown",
   "source": "## Evaluate",
   "id": "12defaa64d5e7f32"
  },
  {
   "metadata": {
    "ExecuteTime": {
     "end_time": "2024-09-30T12:55:45.782579Z",
     "start_time": "2024-09-30T12:55:45.777694Z"
    }
   },
   "cell_type": "code",
   "source": [
    "from langchain.embeddings import HuggingFaceEmbeddings\n",
    "from langchain_community.retrievers import BM25Retriever\n",
    "from utils import find_hit"
   ],
   "id": "b2448797bdf58ecc",
   "outputs": [],
   "execution_count": 6
  },
  {
   "metadata": {
    "ExecuteTime": {
     "end_time": "2024-09-30T12:55:45.917938Z",
     "start_time": "2024-09-30T12:55:45.784342Z"
    }
   },
   "cell_type": "code",
   "source": "qa_df = pd.read_csv('data/test_qa_hyde_docs.csv')",
   "id": "2fa938e2e8e7000c",
   "outputs": [],
   "execution_count": 7
  },
  {
   "metadata": {
    "ExecuteTime": {
     "end_time": "2024-09-30T12:55:45.954439Z",
     "start_time": "2024-09-30T12:55:45.921020Z"
    }
   },
   "cell_type": "code",
   "source": "qa_df.head()",
   "id": "7473d7f831fe3119",
   "outputs": [
    {
     "data": {
      "text/plain": [
       "                                            question  \\\n",
       "0  Какие физико-химические свойства характеризуют...   \n",
       "1  Какие физико-химические свойства пластовых вод...   \n",
       "2  Какие свойства пород-коллекторов и их взаимосв...   \n",
       "3  Что служит критерием опасности коррозии для тр...   \n",
       "4  Как оценивается биокоррозия в соответствии с д...   \n",
       "\n",
       "                                              answer  \\\n",
       "0  \\nФизико-химические свойства конденсата включа...   \n",
       "1  \\nВ документе описаны следующие физико-химичес...   \n",
       "2  \\nВ документе подробно описываются свойства по...   \n",
       "3  \\nКритерием опасности коррозии для трубопровод...   \n",
       "4  \\nВоздействие фактора биокоррозии оценивается ...   \n",
       "\n",
       "                                             context  \\\n",
       "0  компонентный состав и физико-химические свойст...   \n",
       "1  компонентный состав и физико-химические свойст...   \n",
       "2  компонентный состав и физико-химические свойст...   \n",
       "3  Примечания Для трубопроводов тепловых сетей, п...   \n",
       "4  Примечания Для трубопроводов тепловых сетей, п...   \n",
       "\n",
       "                                        akela_answer  \\\n",
       "0   Физико-химические свойства конденсата включаю...   \n",
       "1   В документе описаны следующие физико-химическ...   \n",
       "2   В документе упоминаются следующие свойства по...   \n",
       "3   Критерием опасности коррозии для трубопроводо...   \n",
       "4   Биокоррозия оценивается на основании следующи...   \n",
       "\n",
       "                                 reranked_paragraphs  \\\n",
       "0  ['физико-химические свойства газа в пластовых ...   \n",
       "1  ['компонентный состав и физико-химические свой...   \n",
       "2  ['компонентный состав и физико-химические свой...   \n",
       "3  ['Примечания Для трубопроводов тепловых сетей,...   \n",
       "4  ['Примечания Для трубопроводов тепловых сетей,...   \n",
       "\n",
       "                                            hyde_doc  \n",
       "0  Конденсат, согласно ГОСТ 10688-2014 \"Конденсат...  \n",
       "1  В ГОСТ 12897-2019 \"Пластовые воды. Технические...  \n",
       "2  В соответствии с ГОСТом 12.2.007-2014 \"Породы-...  \n",
       "3  В соответствии с ГОСТ 1629-2012 \"Тепловые сети...  \n",
       "4  В соответствии с ГОСТом \"Биокоррозия. Методы и...  "
      ],
      "text/html": [
       "<div>\n",
       "<style scoped>\n",
       "    .dataframe tbody tr th:only-of-type {\n",
       "        vertical-align: middle;\n",
       "    }\n",
       "\n",
       "    .dataframe tbody tr th {\n",
       "        vertical-align: top;\n",
       "    }\n",
       "\n",
       "    .dataframe thead th {\n",
       "        text-align: right;\n",
       "    }\n",
       "</style>\n",
       "<table border=\"1\" class=\"dataframe\">\n",
       "  <thead>\n",
       "    <tr style=\"text-align: right;\">\n",
       "      <th></th>\n",
       "      <th>question</th>\n",
       "      <th>answer</th>\n",
       "      <th>context</th>\n",
       "      <th>akela_answer</th>\n",
       "      <th>reranked_paragraphs</th>\n",
       "      <th>hyde_doc</th>\n",
       "    </tr>\n",
       "  </thead>\n",
       "  <tbody>\n",
       "    <tr>\n",
       "      <th>0</th>\n",
       "      <td>Какие физико-химические свойства характеризуют...</td>\n",
       "      <td>\\nФизико-химические свойства конденсата включа...</td>\n",
       "      <td>компонентный состав и физико-химические свойст...</td>\n",
       "      <td>Физико-химические свойства конденсата включаю...</td>\n",
       "      <td>['физико-химические свойства газа в пластовых ...</td>\n",
       "      <td>Конденсат, согласно ГОСТ 10688-2014 \"Конденсат...</td>\n",
       "    </tr>\n",
       "    <tr>\n",
       "      <th>1</th>\n",
       "      <td>Какие физико-химические свойства пластовых вод...</td>\n",
       "      <td>\\nВ документе описаны следующие физико-химичес...</td>\n",
       "      <td>компонентный состав и физико-химические свойст...</td>\n",
       "      <td>В документе описаны следующие физико-химическ...</td>\n",
       "      <td>['компонентный состав и физико-химические свой...</td>\n",
       "      <td>В ГОСТ 12897-2019 \"Пластовые воды. Технические...</td>\n",
       "    </tr>\n",
       "    <tr>\n",
       "      <th>2</th>\n",
       "      <td>Какие свойства пород-коллекторов и их взаимосв...</td>\n",
       "      <td>\\nВ документе подробно описываются свойства по...</td>\n",
       "      <td>компонентный состав и физико-химические свойст...</td>\n",
       "      <td>В документе упоминаются следующие свойства по...</td>\n",
       "      <td>['компонентный состав и физико-химические свой...</td>\n",
       "      <td>В соответствии с ГОСТом 12.2.007-2014 \"Породы-...</td>\n",
       "    </tr>\n",
       "    <tr>\n",
       "      <th>3</th>\n",
       "      <td>Что служит критерием опасности коррозии для тр...</td>\n",
       "      <td>\\nКритерием опасности коррозии для трубопровод...</td>\n",
       "      <td>Примечания Для трубопроводов тепловых сетей, п...</td>\n",
       "      <td>Критерием опасности коррозии для трубопроводо...</td>\n",
       "      <td>['Примечания Для трубопроводов тепловых сетей,...</td>\n",
       "      <td>В соответствии с ГОСТ 1629-2012 \"Тепловые сети...</td>\n",
       "    </tr>\n",
       "    <tr>\n",
       "      <th>4</th>\n",
       "      <td>Как оценивается биокоррозия в соответствии с д...</td>\n",
       "      <td>\\nВоздействие фактора биокоррозии оценивается ...</td>\n",
       "      <td>Примечания Для трубопроводов тепловых сетей, п...</td>\n",
       "      <td>Биокоррозия оценивается на основании следующи...</td>\n",
       "      <td>['Примечания Для трубопроводов тепловых сетей,...</td>\n",
       "      <td>В соответствии с ГОСТом \"Биокоррозия. Методы и...</td>\n",
       "    </tr>\n",
       "  </tbody>\n",
       "</table>\n",
       "</div>"
      ]
     },
     "execution_count": 8,
     "metadata": {},
     "output_type": "execute_result"
    }
   ],
   "execution_count": 8
  },
  {
   "metadata": {
    "ExecuteTime": {
     "end_time": "2024-09-29T18:59:18.032497Z",
     "start_time": "2024-09-29T18:59:18.026348Z"
    }
   },
   "cell_type": "code",
   "source": [
    "chroma_path = f'db/chroma_langchain_db_{model_name}'\n",
    "chroma_path"
   ],
   "id": "a976c388c3adddf8",
   "outputs": [
    {
     "data": {
      "text/plain": [
       "'db/chroma_langchain_db_multilingual-e5-base_finetuned_1_epch'"
      ]
     },
     "execution_count": 10,
     "metadata": {},
     "output_type": "execute_result"
    }
   ],
   "execution_count": 10
  },
  {
   "metadata": {
    "ExecuteTime": {
     "end_time": "2024-09-29T18:59:28.250829Z",
     "start_time": "2024-09-29T18:59:21.179989Z"
    }
   },
   "cell_type": "code",
   "source": [
    "model_kwargs = {\"device\": \"cuda\"}\n",
    "encode_kwargs = {'normalize_embeddings': True}\n",
    "embeddings = HuggingFaceEmbeddings(model_name=model_path, model_kwargs=model_kwargs, encode_kwargs=encode_kwargs)"
   ],
   "id": "ca24ee0bbe033f4f",
   "outputs": [
    {
     "name": "stderr",
     "output_type": "stream",
     "text": [
      "/tmp/ipykernel_107282/2839606295.py:3: LangChainDeprecationWarning: The class `HuggingFaceEmbeddings` was deprecated in LangChain 0.2.2 and will be removed in 1.0. An updated version of the class exists in the langchain-huggingface package and should be used instead. To use it run `pip install -U langchain-huggingface` and import as `from langchain_huggingface import HuggingFaceEmbeddings`.\n",
      "  embeddings = HuggingFaceEmbeddings(model_name=model_path, model_kwargs=model_kwargs, encode_kwargs=encode_kwargs)\n"
     ]
    }
   ],
   "execution_count": 11
  },
  {
   "metadata": {
    "ExecuteTime": {
     "end_time": "2024-09-29T18:59:28.453875Z",
     "start_time": "2024-09-29T18:59:28.253480Z"
    }
   },
   "cell_type": "code",
   "source": [
    "vectordb = Chroma(\n",
    "    collection_name=\"otraslevye_docs_gost\",\n",
    "    embedding_function=embeddings,\n",
    "    persist_directory=chroma_path\n",
    ")"
   ],
   "id": "761aef1363f6fa48",
   "outputs": [],
   "execution_count": 12
  },
  {
   "metadata": {
    "ExecuteTime": {
     "end_time": "2024-09-29T17:53:59.418522Z",
     "start_time": "2024-09-29T17:35:35.275724Z"
    }
   },
   "cell_type": "code",
   "source": [
    "for document, id in tqdm(zip(documents, ids), total=len(documents)):\n",
    "    vectordb.add_documents(documents=[document], ids=[id])"
   ],
   "id": "ccd98d9ee99a674e",
   "outputs": [
    {
     "data": {
      "text/plain": [
       "  0%|          | 0/25286 [00:00<?, ?it/s]"
      ],
      "application/vnd.jupyter.widget-view+json": {
       "version_major": 2,
       "version_minor": 0,
       "model_id": "489af9c11c924a26807669cf9ffaab43"
      }
     },
     "metadata": {},
     "output_type": "display_data"
    }
   ],
   "execution_count": 18
  },
  {
   "metadata": {
    "ExecuteTime": {
     "end_time": "2024-09-29T18:59:28.459598Z",
     "start_time": "2024-09-29T18:59:28.455847Z"
    }
   },
   "cell_type": "code",
   "source": "retriever = vectordb.as_retriever(search_kwargs={\"k\": 3})",
   "id": "2ddc7cc441dca583",
   "outputs": [],
   "execution_count": 13
  },
  {
   "metadata": {
    "ExecuteTime": {
     "end_time": "2024-09-25T14:38:42.237718Z",
     "start_time": "2024-09-25T14:38:40.711674Z"
    }
   },
   "cell_type": "code",
   "source": [
    "# BM25 Retriever\n",
    "chunks = vectordb.get()\n",
    "documents = create_documents(chunks)\n",
    "retriever = BM25Retriever.from_documents(documents, k=3)"
   ],
   "id": "2ef04ad06e963bc3",
   "outputs": [],
   "execution_count": 14
  },
  {
   "metadata": {
    "ExecuteTime": {
     "end_time": "2024-09-29T18:59:44.092505Z",
     "start_time": "2024-09-29T18:59:28.462210Z"
    }
   },
   "cell_type": "code",
   "source": [
    "retrieved_documents = []\n",
    "\n",
    "for q in tqdm(qa_df['hyde_doc']):\n",
    "    retrieved_documents.append([d.page_content for d in retriever.invoke(q)])\n",
    "    \n",
    "qa_df['retrieved_documents'] = retrieved_documents"
   ],
   "id": "d2cb4903eaaa1f65",
   "outputs": [
    {
     "data": {
      "text/plain": [
       "  0%|          | 0/397 [00:00<?, ?it/s]"
      ],
      "application/vnd.jupyter.widget-view+json": {
       "version_major": 2,
       "version_minor": 0,
       "model_id": "b2841c6648d54cd3885f5d2bf373722f"
      }
     },
     "metadata": {},
     "output_type": "display_data"
    }
   ],
   "execution_count": 14
  },
  {
   "metadata": {
    "ExecuteTime": {
     "end_time": "2024-09-29T18:59:58.981600Z",
     "start_time": "2024-09-29T18:59:58.965057Z"
    }
   },
   "cell_type": "code",
   "source": "qa_df['hitrate'] = qa_df.apply(lambda x: find_hit(x['context'], x['retrieved_documents'], prefix_char=None), axis=1)",
   "id": "6eec6162dd52d7da",
   "outputs": [],
   "execution_count": 18
  },
  {
   "metadata": {
    "ExecuteTime": {
     "end_time": "2024-09-29T18:59:59.424356Z",
     "start_time": "2024-09-29T18:59:59.415460Z"
    }
   },
   "cell_type": "code",
   "source": "qa_df['hitrate'].value_counts()",
   "id": "95b09b7136802304",
   "outputs": [
    {
     "data": {
      "text/plain": [
       "hitrate\n",
       "0.0    46\n",
       "1.0    26\n",
       "2.0    15\n",
       "Name: count, dtype: int64"
      ]
     },
     "execution_count": 19,
     "metadata": {},
     "output_type": "execute_result"
    }
   ],
   "execution_count": 19
  },
  {
   "metadata": {
    "ExecuteTime": {
     "end_time": "2024-09-29T18:59:59.794292Z",
     "start_time": "2024-09-29T18:59:59.786547Z"
    }
   },
   "cell_type": "code",
   "source": "qa_df.notna().sum() / len(qa_df)",
   "id": "78d0abcc7f324eb9",
   "outputs": [
    {
     "data": {
      "text/plain": [
       "question               1.000000\n",
       "answer                 1.000000\n",
       "context                1.000000\n",
       "akela_answer           1.000000\n",
       "reranked_paragraphs    1.000000\n",
       "hyde_doc               1.000000\n",
       "retrieved_documents    1.000000\n",
       "hitrate                0.219144\n",
       "dtype: float64"
      ]
     },
     "execution_count": 20,
     "metadata": {},
     "output_type": "execute_result"
    }
   ],
   "execution_count": 20
  },
  {
   "metadata": {},
   "cell_type": "code",
   "outputs": [],
   "execution_count": null,
   "source": "",
   "id": "466099ec3863457d"
  }
 ],
 "metadata": {
  "kernelspec": {
   "display_name": "Python 3",
   "language": "python",
   "name": "python3"
  },
  "language_info": {
   "codemirror_mode": {
    "name": "ipython",
    "version": 2
   },
   "file_extension": ".py",
   "mimetype": "text/x-python",
   "name": "python",
   "nbconvert_exporter": "python",
   "pygments_lexer": "ipython2",
   "version": "2.7.6"
  }
 },
 "nbformat": 4,
 "nbformat_minor": 5
}
