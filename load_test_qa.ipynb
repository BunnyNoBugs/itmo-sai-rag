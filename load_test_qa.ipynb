{
 "cells": [
  {
   "cell_type": "code",
   "id": "initial_id",
   "metadata": {
    "collapsed": true,
    "ExecuteTime": {
     "end_time": "2024-09-13T17:33:41.186436Z",
     "start_time": "2024-09-13T17:33:38.049941Z"
    }
   },
   "source": [
    "import pickle\n",
    "import pandas as pd\n",
    "import json"
   ],
   "outputs": [],
   "execution_count": 1
  },
  {
   "metadata": {},
   "cell_type": "markdown",
   "source": "## Load test QA",
   "id": "1e1bd96c97a33277"
  },
  {
   "metadata": {
    "ExecuteTime": {
     "end_time": "2024-09-03T15:17:31.604998Z",
     "start_time": "2024-09-03T15:17:31.590998Z"
    }
   },
   "cell_type": "code",
   "source": [
    "with open('data/qa_on_gost.pkl', 'rb') as f:\n",
    "    qa = pickle.load(f)\n",
    "    qa_df = pd.DataFrame(qa)"
   ],
   "id": "d6c9ed0f716f8484",
   "outputs": [],
   "execution_count": 2
  },
  {
   "metadata": {
    "ExecuteTime": {
     "end_time": "2024-09-10T19:47:47.906546Z",
     "start_time": "2024-09-10T19:47:47.887512Z"
    }
   },
   "cell_type": "code",
   "source": [
    "with open('data/test_qa_with_akela_answer.pickle', 'rb') as f:\n",
    "    qa = pickle.load(f)\n",
    "    qa_df = pd.DataFrame(qa)\n",
    "    qa_df['reranked_paragraphs'] = [[d.page_content for d in r] for r in qa_df['reranked_paragraphs']]"
   ],
   "id": "3bd87f4506ab2faa",
   "outputs": [],
   "execution_count": 26
  },
  {
   "metadata": {
    "ExecuteTime": {
     "end_time": "2024-09-03T15:17:31.619997Z",
     "start_time": "2024-09-03T15:17:31.607001Z"
    }
   },
   "cell_type": "code",
   "source": "qa_df.to_csv('data/qa_on_gost.csv')",
   "id": "bfb36f7153b6e9c0",
   "outputs": [],
   "execution_count": 3
  },
  {
   "metadata": {
    "ExecuteTime": {
     "end_time": "2024-09-10T19:51:54.789185Z",
     "start_time": "2024-09-10T19:51:53.971865Z"
    }
   },
   "cell_type": "code",
   "source": [
    "with open('data/otraslevye_docs_gost.json') as f:\n",
    "    chunks = json.load(f)"
   ],
   "id": "8a598eae7e9cac96",
   "outputs": [],
   "execution_count": 33
  },
  {
   "metadata": {
    "ExecuteTime": {
     "end_time": "2024-09-10T19:51:56.033152Z",
     "start_time": "2024-09-10T19:51:56.018762Z"
    }
   },
   "cell_type": "code",
   "source": "len(chunks['ids'])",
   "id": "5b37b72b85c14f96",
   "outputs": [
    {
     "data": {
      "text/plain": [
       "9394"
      ]
     },
     "execution_count": 34,
     "metadata": {},
     "output_type": "execute_result"
    }
   ],
   "execution_count": 34
  },
  {
   "metadata": {
    "ExecuteTime": {
     "end_time": "2024-09-10T19:51:56.875122Z",
     "start_time": "2024-09-10T19:51:56.853210Z"
    }
   },
   "cell_type": "code",
   "source": "qa_df['document'] = qa_df['ids'].apply(lambda x: chunks['documents'][chunks['ids'].index(x)])",
   "id": "4e5fd5f9a9836c8e",
   "outputs": [],
   "execution_count": 35
  },
  {
   "metadata": {
    "ExecuteTime": {
     "end_time": "2024-09-10T19:51:57.499294Z",
     "start_time": "2024-09-10T19:51:57.487417Z"
    }
   },
   "cell_type": "code",
   "source": "qa_df.head()",
   "id": "e2d7c940fad259bd",
   "outputs": [
    {
     "data": {
      "text/plain": [
       "                                    ids  \\\n",
       "0  8f32eb5b-5124-4258-97f1-4e0950adce96   \n",
       "1  8f32eb5b-5124-4258-97f1-4e0950adce96   \n",
       "2  8f32eb5b-5124-4258-97f1-4e0950adce96   \n",
       "3  0eec8214-7c6f-448e-a9ba-e80c2ec86bb6   \n",
       "4  0eec8214-7c6f-448e-a9ba-e80c2ec86bb6   \n",
       "\n",
       "                                            question  \\\n",
       "0  Как правильно ухаживать за электродом измерителя?   \n",
       "1  Как восстановить электрод измерителя, если оно...   \n",
       "2     Как проверить калибровку электрода измерителя?   \n",
       "3  Какие изменения в проекте должны быть задокуме...   \n",
       "4  Какие параметры должны быть приняты во внимани...   \n",
       "\n",
       "                                             answers relevance  \\\n",
       "0  Уход за электродом (следуйте инструкциям произ...         8   \n",
       "1  Восстановление электрода может быть необходимо...         8   \n",
       "2  Проверить отклик электрода, выполнив калибровк...         7   \n",
       "3  Все изменения в проекте должны быть задокумент...         8   \n",
       "4  Уровни напряженности модифицированных или изме...         7   \n",
       "\n",
       "                                     system_response  \\\n",
       "0  Для обеспечения точности метода и продления ср...   \n",
       "1  В соответствии с текстом, электрод измерителя ...   \n",
       "2  Согласно тексту, калибровку электрода измерите...   \n",
       "3  Все изменения в проекте должны быть задокумент...   \n",
       "4  Основные параметры и размеры фильтров должны с...   \n",
       "\n",
       "                                        akela_answer  \\\n",
       "0   Уход за электродом измерителя включает следую...   \n",
       "1   Если электрод измерителя стал неисправным, ег...   \n",
       "2   Проверка калибровки электрода измерителя выпо...   \n",
       "3   Все изменения и модификации в проекте должны ...   \n",
       "4   При внесении изменений в проект должны быть п...   \n",
       "\n",
       "                                 reranked_paragraphs  \\\n",
       "0  [11.3.8 Установить показания измерителя ма отм...   \n",
       "1  [11.3.15 Выключить измеритель и закрыть его кр...   \n",
       "2  [11.3.8 Установить показания измерителя ма отм...   \n",
       "3  [Все изменения в проекте должны быть задокумен...   \n",
       "4  [6.6.2 При внесении изменений в конструкцию по...   \n",
       "\n",
       "                                            document  \n",
       "0  11.3.15 Выключить измеритель и закрыть его кры...  \n",
       "1  11.3.15 Выключить измеритель и закрыть его кры...  \n",
       "2  11.3.15 Выключить измеритель и закрыть его кры...  \n",
       "3  Все изменения в проекте должны быть задокумент...  \n",
       "4  Все изменения в проекте должны быть задокумент...  "
      ],
      "text/html": [
       "<div>\n",
       "<style scoped>\n",
       "    .dataframe tbody tr th:only-of-type {\n",
       "        vertical-align: middle;\n",
       "    }\n",
       "\n",
       "    .dataframe tbody tr th {\n",
       "        vertical-align: top;\n",
       "    }\n",
       "\n",
       "    .dataframe thead th {\n",
       "        text-align: right;\n",
       "    }\n",
       "</style>\n",
       "<table border=\"1\" class=\"dataframe\">\n",
       "  <thead>\n",
       "    <tr style=\"text-align: right;\">\n",
       "      <th></th>\n",
       "      <th>ids</th>\n",
       "      <th>question</th>\n",
       "      <th>answers</th>\n",
       "      <th>relevance</th>\n",
       "      <th>system_response</th>\n",
       "      <th>akela_answer</th>\n",
       "      <th>reranked_paragraphs</th>\n",
       "      <th>document</th>\n",
       "    </tr>\n",
       "  </thead>\n",
       "  <tbody>\n",
       "    <tr>\n",
       "      <th>0</th>\n",
       "      <td>8f32eb5b-5124-4258-97f1-4e0950adce96</td>\n",
       "      <td>Как правильно ухаживать за электродом измерителя?</td>\n",
       "      <td>Уход за электродом (следуйте инструкциям произ...</td>\n",
       "      <td>8</td>\n",
       "      <td>Для обеспечения точности метода и продления ср...</td>\n",
       "      <td>Уход за электродом измерителя включает следую...</td>\n",
       "      <td>[11.3.8 Установить показания измерителя ма отм...</td>\n",
       "      <td>11.3.15 Выключить измеритель и закрыть его кры...</td>\n",
       "    </tr>\n",
       "    <tr>\n",
       "      <th>1</th>\n",
       "      <td>8f32eb5b-5124-4258-97f1-4e0950adce96</td>\n",
       "      <td>Как восстановить электрод измерителя, если оно...</td>\n",
       "      <td>Восстановление электрода может быть необходимо...</td>\n",
       "      <td>8</td>\n",
       "      <td>В соответствии с текстом, электрод измерителя ...</td>\n",
       "      <td>Если электрод измерителя стал неисправным, ег...</td>\n",
       "      <td>[11.3.15 Выключить измеритель и закрыть его кр...</td>\n",
       "      <td>11.3.15 Выключить измеритель и закрыть его кры...</td>\n",
       "    </tr>\n",
       "    <tr>\n",
       "      <th>2</th>\n",
       "      <td>8f32eb5b-5124-4258-97f1-4e0950adce96</td>\n",
       "      <td>Как проверить калибровку электрода измерителя?</td>\n",
       "      <td>Проверить отклик электрода, выполнив калибровк...</td>\n",
       "      <td>7</td>\n",
       "      <td>Согласно тексту, калибровку электрода измерите...</td>\n",
       "      <td>Проверка калибровки электрода измерителя выпо...</td>\n",
       "      <td>[11.3.8 Установить показания измерителя ма отм...</td>\n",
       "      <td>11.3.15 Выключить измеритель и закрыть его кры...</td>\n",
       "    </tr>\n",
       "    <tr>\n",
       "      <th>3</th>\n",
       "      <td>0eec8214-7c6f-448e-a9ba-e80c2ec86bb6</td>\n",
       "      <td>Какие изменения в проекте должны быть задокуме...</td>\n",
       "      <td>Все изменения в проекте должны быть задокумент...</td>\n",
       "      <td>8</td>\n",
       "      <td>Все изменения в проекте должны быть задокумент...</td>\n",
       "      <td>Все изменения и модификации в проекте должны ...</td>\n",
       "      <td>[Все изменения в проекте должны быть задокумен...</td>\n",
       "      <td>Все изменения в проекте должны быть задокумент...</td>\n",
       "    </tr>\n",
       "    <tr>\n",
       "      <th>4</th>\n",
       "      <td>0eec8214-7c6f-448e-a9ba-e80c2ec86bb6</td>\n",
       "      <td>Какие параметры должны быть приняты во внимани...</td>\n",
       "      <td>Уровни напряженности модифицированных или изме...</td>\n",
       "      <td>7</td>\n",
       "      <td>Основные параметры и размеры фильтров должны с...</td>\n",
       "      <td>При внесении изменений в проект должны быть п...</td>\n",
       "      <td>[6.6.2 При внесении изменений в конструкцию по...</td>\n",
       "      <td>Все изменения в проекте должны быть задокумент...</td>\n",
       "    </tr>\n",
       "  </tbody>\n",
       "</table>\n",
       "</div>"
      ]
     },
     "execution_count": 36,
     "metadata": {},
     "output_type": "execute_result"
    }
   ],
   "execution_count": 36
  },
  {
   "metadata": {},
   "cell_type": "markdown",
   "source": "## Compute metrics",
   "id": "f2b2d33ab8d386b0"
  },
  {
   "metadata": {
    "ExecuteTime": {
     "end_time": "2024-09-10T19:51:59.655586Z",
     "start_time": "2024-09-10T19:51:59.637867Z"
    }
   },
   "cell_type": "code",
   "source": [
    "def format_response_text(response_text):\n",
    "    return response_text.split('<|start_header_id|>assistant<|end_header_id|>\\nОтвет:\\n')[1]"
   ],
   "id": "cff16b1ea3c143d5",
   "outputs": [],
   "execution_count": 37
  },
  {
   "metadata": {
    "ExecuteTime": {
     "end_time": "2024-09-10T19:52:00.156297Z",
     "start_time": "2024-09-10T19:52:00.028570Z"
    }
   },
   "cell_type": "code",
   "source": [
    "with open('data/test_qa_responses.json') as f:\n",
    "    qa_responses = json.load(f)\n",
    "response_texts = [format_response_text(x['result']) for x in qa_responses]\n",
    "source_documents = [[d['page_content'] for d in r['source_documents']] for r in qa_responses]"
   ],
   "id": "1e0889728dad90ff",
   "outputs": [],
   "execution_count": 38
  },
  {
   "metadata": {
    "ExecuteTime": {
     "end_time": "2024-09-10T19:52:00.735660Z",
     "start_time": "2024-09-10T19:52:00.608931Z"
    }
   },
   "cell_type": "code",
   "source": [
    "with open('data/test_qa_results_hyde.json') as f:\n",
    "    qa_responses_hyde = json.load(f)\n",
    "response_texts_hyde = [format_response_text(x['response']) for x in qa_responses_hyde]\n",
    "source_documents_hyde = [[d['page_content'] for d in r['source_documents']] for r in qa_responses_hyde]"
   ],
   "id": "7e4a2a8ff783a438",
   "outputs": [],
   "execution_count": 39
  },
  {
   "metadata": {
    "ExecuteTime": {
     "end_time": "2024-09-10T19:52:01.440358Z",
     "start_time": "2024-09-10T19:52:01.425703Z"
    }
   },
   "cell_type": "code",
   "source": [
    "qa_df['system_response'] = response_texts\n",
    "qa_df['system_response_hyde'] = response_texts_hyde\n",
    "qa_df['source_documents'] = source_documents\n",
    "qa_df['source_documents_hyde'] = source_documents_hyde"
   ],
   "id": "c07240b08f76c5de",
   "outputs": [],
   "execution_count": 40
  },
  {
   "metadata": {
    "ExecuteTime": {
     "end_time": "2024-09-10T19:52:01.721879Z",
     "start_time": "2024-09-10T19:52:01.710309Z"
    }
   },
   "cell_type": "code",
   "source": [
    "def find_hit(ground_truth, candidates):\n",
    "    if ground_truth in candidates:\n",
    "        return candidates.index(ground_truth)\n",
    "    else:\n",
    "        return None"
   ],
   "id": "8ac67ec5355f7679",
   "outputs": [],
   "execution_count": 41
  },
  {
   "metadata": {
    "ExecuteTime": {
     "end_time": "2024-09-10T19:52:02.271228Z",
     "start_time": "2024-09-10T19:52:02.247228Z"
    }
   },
   "cell_type": "code",
   "source": "qa_df.head()",
   "id": "a1a6405b64897b83",
   "outputs": [
    {
     "data": {
      "text/plain": [
       "                                    ids  \\\n",
       "0  8f32eb5b-5124-4258-97f1-4e0950adce96   \n",
       "1  8f32eb5b-5124-4258-97f1-4e0950adce96   \n",
       "2  8f32eb5b-5124-4258-97f1-4e0950adce96   \n",
       "3  0eec8214-7c6f-448e-a9ba-e80c2ec86bb6   \n",
       "4  0eec8214-7c6f-448e-a9ba-e80c2ec86bb6   \n",
       "\n",
       "                                            question  \\\n",
       "0  Как правильно ухаживать за электродом измерителя?   \n",
       "1  Как восстановить электрод измерителя, если оно...   \n",
       "2     Как проверить калибровку электрода измерителя?   \n",
       "3  Какие изменения в проекте должны быть задокуме...   \n",
       "4  Какие параметры должны быть приняты во внимани...   \n",
       "\n",
       "                                             answers relevance  \\\n",
       "0  Уход за электродом (следуйте инструкциям произ...         8   \n",
       "1  Восстановление электрода может быть необходимо...         8   \n",
       "2  Проверить отклик электрода, выполнив калибровк...         7   \n",
       "3  Все изменения в проекте должны быть задокумент...         8   \n",
       "4  Уровни напряженности модифицированных или изме...         7   \n",
       "\n",
       "                                     system_response  \\\n",
       "0  Для обеспечения точности метода и продления ср...   \n",
       "1  В соответствии с текстом, электрод измерителя ...   \n",
       "2  Согласно тексту, калибровку электрода измерите...   \n",
       "3  Все изменения в проекте должны быть задокумент...   \n",
       "4  Основные параметры и размеры фильтров должны с...   \n",
       "\n",
       "                                        akela_answer  \\\n",
       "0   Уход за электродом измерителя включает следую...   \n",
       "1   Если электрод измерителя стал неисправным, ег...   \n",
       "2   Проверка калибровки электрода измерителя выпо...   \n",
       "3   Все изменения и модификации в проекте должны ...   \n",
       "4   При внесении изменений в проект должны быть п...   \n",
       "\n",
       "                                 reranked_paragraphs  \\\n",
       "0  [11.3.8 Установить показания измерителя ма отм...   \n",
       "1  [11.3.15 Выключить измеритель и закрыть его кр...   \n",
       "2  [11.3.8 Установить показания измерителя ма отм...   \n",
       "3  [Все изменения в проекте должны быть задокумен...   \n",
       "4  [6.6.2 При внесении изменений в конструкцию по...   \n",
       "\n",
       "                                            document  \\\n",
       "0  11.3.15 Выключить измеритель и закрыть его кры...   \n",
       "1  11.3.15 Выключить измеритель и закрыть его кры...   \n",
       "2  11.3.15 Выключить измеритель и закрыть его кры...   \n",
       "3  Все изменения в проекте должны быть задокумент...   \n",
       "4  Все изменения в проекте должны быть задокумент...   \n",
       "\n",
       "                                system_response_hyde  \\\n",
       "0  Для обеспечения точности метода, необходимо сл...   \n",
       "1  Восстановить электрод измерителя можно, если о...   \n",
       "2  Проверка калибровки электрода измерителя осуще...   \n",
       "3  Все изменения в проекте должны быть задокумент...   \n",
       "4  Уровни напряженности модифицированных или изме...   \n",
       "\n",
       "                                    source_documents  \\\n",
       "0  [Электроды Для обеспечения точности метода реш...   \n",
       "1  [7.3.1 Проверяют систему «.измерительный прибо...   \n",
       "2  [7.3.1 Проверяют систему «.измерительный прибо...   \n",
       "3  [Все изменения в проекте должны быть задокумен...   \n",
       "4  [Если в процессе производства в конструкцию вн...   \n",
       "\n",
       "                               source_documents_hyde  \n",
       "0  [Электроды Для обеспечения точности метода реш...  \n",
       "1  [7.3.1 Проверяют систему «.измерительный прибо...  \n",
       "2  [7.3.1 Проверяют систему «.измерительный прибо...  \n",
       "3  [Все изменения в проекте должны быть задокумен...  \n",
       "4  [Проектная документация должна включать методы...  "
      ],
      "text/html": [
       "<div>\n",
       "<style scoped>\n",
       "    .dataframe tbody tr th:only-of-type {\n",
       "        vertical-align: middle;\n",
       "    }\n",
       "\n",
       "    .dataframe tbody tr th {\n",
       "        vertical-align: top;\n",
       "    }\n",
       "\n",
       "    .dataframe thead th {\n",
       "        text-align: right;\n",
       "    }\n",
       "</style>\n",
       "<table border=\"1\" class=\"dataframe\">\n",
       "  <thead>\n",
       "    <tr style=\"text-align: right;\">\n",
       "      <th></th>\n",
       "      <th>ids</th>\n",
       "      <th>question</th>\n",
       "      <th>answers</th>\n",
       "      <th>relevance</th>\n",
       "      <th>system_response</th>\n",
       "      <th>akela_answer</th>\n",
       "      <th>reranked_paragraphs</th>\n",
       "      <th>document</th>\n",
       "      <th>system_response_hyde</th>\n",
       "      <th>source_documents</th>\n",
       "      <th>source_documents_hyde</th>\n",
       "    </tr>\n",
       "  </thead>\n",
       "  <tbody>\n",
       "    <tr>\n",
       "      <th>0</th>\n",
       "      <td>8f32eb5b-5124-4258-97f1-4e0950adce96</td>\n",
       "      <td>Как правильно ухаживать за электродом измерителя?</td>\n",
       "      <td>Уход за электродом (следуйте инструкциям произ...</td>\n",
       "      <td>8</td>\n",
       "      <td>Для обеспечения точности метода и продления ср...</td>\n",
       "      <td>Уход за электродом измерителя включает следую...</td>\n",
       "      <td>[11.3.8 Установить показания измерителя ма отм...</td>\n",
       "      <td>11.3.15 Выключить измеритель и закрыть его кры...</td>\n",
       "      <td>Для обеспечения точности метода, необходимо сл...</td>\n",
       "      <td>[Электроды Для обеспечения точности метода реш...</td>\n",
       "      <td>[Электроды Для обеспечения точности метода реш...</td>\n",
       "    </tr>\n",
       "    <tr>\n",
       "      <th>1</th>\n",
       "      <td>8f32eb5b-5124-4258-97f1-4e0950adce96</td>\n",
       "      <td>Как восстановить электрод измерителя, если оно...</td>\n",
       "      <td>Восстановление электрода может быть необходимо...</td>\n",
       "      <td>8</td>\n",
       "      <td>В соответствии с текстом, электрод измерителя ...</td>\n",
       "      <td>Если электрод измерителя стал неисправным, ег...</td>\n",
       "      <td>[11.3.15 Выключить измеритель и закрыть его кр...</td>\n",
       "      <td>11.3.15 Выключить измеритель и закрыть его кры...</td>\n",
       "      <td>Восстановить электрод измерителя можно, если о...</td>\n",
       "      <td>[7.3.1 Проверяют систему «.измерительный прибо...</td>\n",
       "      <td>[7.3.1 Проверяют систему «.измерительный прибо...</td>\n",
       "    </tr>\n",
       "    <tr>\n",
       "      <th>2</th>\n",
       "      <td>8f32eb5b-5124-4258-97f1-4e0950adce96</td>\n",
       "      <td>Как проверить калибровку электрода измерителя?</td>\n",
       "      <td>Проверить отклик электрода, выполнив калибровк...</td>\n",
       "      <td>7</td>\n",
       "      <td>Согласно тексту, калибровку электрода измерите...</td>\n",
       "      <td>Проверка калибровки электрода измерителя выпо...</td>\n",
       "      <td>[11.3.8 Установить показания измерителя ма отм...</td>\n",
       "      <td>11.3.15 Выключить измеритель и закрыть его кры...</td>\n",
       "      <td>Проверка калибровки электрода измерителя осуще...</td>\n",
       "      <td>[7.3.1 Проверяют систему «.измерительный прибо...</td>\n",
       "      <td>[7.3.1 Проверяют систему «.измерительный прибо...</td>\n",
       "    </tr>\n",
       "    <tr>\n",
       "      <th>3</th>\n",
       "      <td>0eec8214-7c6f-448e-a9ba-e80c2ec86bb6</td>\n",
       "      <td>Какие изменения в проекте должны быть задокуме...</td>\n",
       "      <td>Все изменения в проекте должны быть задокумент...</td>\n",
       "      <td>8</td>\n",
       "      <td>Все изменения в проекте должны быть задокумент...</td>\n",
       "      <td>Все изменения и модификации в проекте должны ...</td>\n",
       "      <td>[Все изменения в проекте должны быть задокумен...</td>\n",
       "      <td>Все изменения в проекте должны быть задокумент...</td>\n",
       "      <td>Все изменения в проекте должны быть задокумент...</td>\n",
       "      <td>[Все изменения в проекте должны быть задокумен...</td>\n",
       "      <td>[Все изменения в проекте должны быть задокумен...</td>\n",
       "    </tr>\n",
       "    <tr>\n",
       "      <th>4</th>\n",
       "      <td>0eec8214-7c6f-448e-a9ba-e80c2ec86bb6</td>\n",
       "      <td>Какие параметры должны быть приняты во внимани...</td>\n",
       "      <td>Уровни напряженности модифицированных или изме...</td>\n",
       "      <td>7</td>\n",
       "      <td>Основные параметры и размеры фильтров должны с...</td>\n",
       "      <td>При внесении изменений в проект должны быть п...</td>\n",
       "      <td>[6.6.2 При внесении изменений в конструкцию по...</td>\n",
       "      <td>Все изменения в проекте должны быть задокумент...</td>\n",
       "      <td>Уровни напряженности модифицированных или изме...</td>\n",
       "      <td>[Если в процессе производства в конструкцию вн...</td>\n",
       "      <td>[Проектная документация должна включать методы...</td>\n",
       "    </tr>\n",
       "  </tbody>\n",
       "</table>\n",
       "</div>"
      ]
     },
     "execution_count": 42,
     "metadata": {},
     "output_type": "execute_result"
    }
   ],
   "execution_count": 42
  },
  {
   "metadata": {
    "ExecuteTime": {
     "end_time": "2024-09-10T19:52:38.783650Z",
     "start_time": "2024-09-10T19:52:38.765830Z"
    }
   },
   "cell_type": "code",
   "source": [
    "qa_df['hitrate'] = qa_df.apply(lambda x: find_hit(x['document'], x['source_documents']), axis=1)\n",
    "qa_df['hitrate_hyde'] = qa_df.apply(lambda x: find_hit(x['document'], x['source_documents_hyde']), axis=1)\n",
    "qa_df['hitrate_akela'] = qa_df.apply(lambda x: find_hit(x['document'], x['reranked_paragraphs']), axis=1)"
   ],
   "id": "b4b041e790ee51ac",
   "outputs": [],
   "execution_count": 43
  },
  {
   "metadata": {
    "ExecuteTime": {
     "end_time": "2024-09-10T19:52:39.952932Z",
     "start_time": "2024-09-10T19:52:39.936175Z"
    }
   },
   "cell_type": "code",
   "source": "qa_df['hitrate'].value_counts()",
   "id": "c35505f8db5fc72",
   "outputs": [
    {
     "data": {
      "text/plain": [
       "0.0    89\n",
       "1.0    29\n",
       "2.0    10\n",
       "Name: hitrate, dtype: int64"
      ]
     },
     "execution_count": 44,
     "metadata": {},
     "output_type": "execute_result"
    }
   ],
   "execution_count": 44
  },
  {
   "metadata": {
    "ExecuteTime": {
     "end_time": "2024-09-10T19:52:40.829047Z",
     "start_time": "2024-09-10T19:52:40.818116Z"
    }
   },
   "cell_type": "code",
   "source": "qa_df['hitrate_hyde'].value_counts()",
   "id": "c337156967e86ff5",
   "outputs": [
    {
     "data": {
      "text/plain": [
       "0.0    59\n",
       "1.0    18\n",
       "2.0    11\n",
       "Name: hitrate_hyde, dtype: int64"
      ]
     },
     "execution_count": 45,
     "metadata": {},
     "output_type": "execute_result"
    }
   ],
   "execution_count": 45
  },
  {
   "metadata": {
    "ExecuteTime": {
     "end_time": "2024-09-10T19:52:41.505359Z",
     "start_time": "2024-09-10T19:52:41.484702Z"
    }
   },
   "cell_type": "code",
   "source": "qa_df.notna().sum() / len(qa_df)",
   "id": "19d63428d353ba05",
   "outputs": [
    {
     "data": {
      "text/plain": [
       "ids                      1.000000\n",
       "question                 1.000000\n",
       "answers                  1.000000\n",
       "relevance                1.000000\n",
       "system_response          1.000000\n",
       "akela_answer             1.000000\n",
       "reranked_paragraphs      1.000000\n",
       "document                 1.000000\n",
       "system_response_hyde     1.000000\n",
       "source_documents         1.000000\n",
       "source_documents_hyde    1.000000\n",
       "hitrate                  0.533333\n",
       "hitrate_hyde             0.366667\n",
       "hitrate_akela            0.233333\n",
       "dtype: float64"
      ]
     },
     "execution_count": 46,
     "metadata": {},
     "output_type": "execute_result"
    }
   ],
   "execution_count": 46
  },
  {
   "metadata": {
    "ExecuteTime": {
     "end_time": "2024-09-10T19:54:03.539886Z",
     "start_time": "2024-09-10T19:54:03.535878Z"
    }
   },
   "cell_type": "code",
   "source": "qa_df['reranked_paragraphs'].apply(len).value_counts()",
   "id": "1ad3544e145c7386",
   "outputs": [
    {
     "data": {
      "text/plain": [
       "3    234\n",
       "0      3\n",
       "2      3\n",
       "Name: reranked_paragraphs, dtype: int64"
      ]
     },
     "execution_count": 49,
     "metadata": {},
     "output_type": "execute_result"
    }
   ],
   "execution_count": 49
  },
  {
   "metadata": {},
   "cell_type": "code",
   "outputs": [],
   "execution_count": null,
   "source": "",
   "id": "ec4402f8848bb56c"
  },
  {
   "metadata": {
    "ExecuteTime": {
     "end_time": "2024-08-12T22:29:21.810510Z",
     "start_time": "2024-08-12T22:29:21.779255Z"
    }
   },
   "cell_type": "code",
   "source": "qa_df.to_csv('data/test_qa.csv')",
   "id": "abd05dea283b883e",
   "outputs": [],
   "execution_count": 20
  },
  {
   "metadata": {},
   "cell_type": "code",
   "outputs": [],
   "execution_count": null,
   "source": "",
   "id": "498b8b29a7552374"
  }
 ],
 "metadata": {
  "kernelspec": {
   "display_name": "Python 3",
   "language": "python",
   "name": "python3"
  },
  "language_info": {
   "codemirror_mode": {
    "name": "ipython",
    "version": 2
   },
   "file_extension": ".py",
   "mimetype": "text/x-python",
   "name": "python",
   "nbconvert_exporter": "python",
   "pygments_lexer": "ipython2",
   "version": "2.7.6"
  }
 },
 "nbformat": 4,
 "nbformat_minor": 5
}
